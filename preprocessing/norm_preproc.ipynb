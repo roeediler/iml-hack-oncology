{
 "cells": [
  {
   "cell_type": "code",
   "execution_count": null,
   "id": "bdc7929c",
   "metadata": {},
   "outputs": [
    {
     "name": "stderr",
     "output_type": "stream",
     "text": [
      "C:\\\\Users\\\\roeed\\\\OneDrive\\\\Documents\\\\Projects\\\\iml-hack-oncology\\preprocessing\\preprocess_data.py:464: UserWarning: Parsing dates in %d/%m/%Y format when dayfirst=False (the default) was specified. Pass `dayfirst=True` or specify a format to silence this warning.\n",
      "  data[col] = pd.to_datetime(data[col], errors='coerce')\n",
      "C:\\\\Users\\\\roeed\\\\OneDrive\\\\Documents\\\\Projects\\\\iml-hack-oncology\\preprocessing\\preprocess_data.py:464: UserWarning: Parsing dates in %d/%m/%Y format when dayfirst=False (the default) was specified. Pass `dayfirst=True` or specify a format to silence this warning.\n",
      "  data[col] = pd.to_datetime(data[col], errors='coerce')\n",
      "C:\\\\Users\\\\roeed\\\\OneDrive\\\\Documents\\\\Projects\\\\iml-hack-oncology\\preprocessing\\preprocess_data.py:464: UserWarning: Parsing dates in %d/%m/%Y format when dayfirst=False (the default) was specified. Pass `dayfirst=True` or specify a format to silence this warning.\n",
      "  data[col] = pd.to_datetime(data[col], errors='coerce')\n"
     ]
    }
   ],
   "source": [
    "\n",
    "import numpy as np\n",
    "import pandas as pd\n",
    "import ast\n",
    "import sys\n",
    "\n",
    "from sklearn.ensemble import RandomForestClassifier\n",
    "from sklearn.neighbors import KNeighborsClassifier\n",
    "from sklearn.model_selection import ParameterSampler\n",
    "from sklearn.ensemble import HistGradientBoostingClassifier\n",
    "from sklearn.tree import DecisionTreeClassifier\n",
    "from sklearn.multioutput import ClassifierChain\n",
    "from sklearn.ensemble import AdaBoostClassifier\n",
    "\n",
    "from sklearn.preprocessing import MultiLabelBinarizer\n",
    "from sklearn.multiclass import OneVsRestClassifier\n",
    "from sklearn.preprocessing import StandardScaler\n",
    "from sklearn.pipeline import Pipeline\n",
    "from sklearn.model_selection import train_test_split, RandomizedSearchCV\n",
    "from sklearn.metrics import classification_report, f1_score\n",
    "\n",
    "from itertools import chain\n",
    "\n",
    "sys.path.append(r\"C:\\\\Users\\\\roeed\\\\OneDrive\\\\Documents\\\\Projects\\\\iml-hack-oncology\")\n",
    "\n",
    "from preprocessing.preprocess_data import preprocess\n",
    "import preprocessing.data_completion as data_completion\n",
    "\n",
    "import os\n",
    "\n",
    "np.random.seed(42)\n",
    "top_k = 3\n",
    "\n",
    "# ---- 1. Import the data ----\n",
    "father_folder = os.path.dirname(os.getcwd())\n",
    "X = pd.read_csv(f'{father_folder}/train_test_splits/train_split.feats.csv')\n",
    "y_raw = pd.read_csv(f'{father_folder}/train_test_splits/train_split.labels.0.csv')\n",
    "\n",
    "X_test_feats = pd.read_csv(f'{father_folder}/train_test_splits/test.feats.csv')\n",
    "\n",
    "# change the column name to 'metastasis' for consistency\n",
    "y_raw.rename(columns={'אבחנה-Location of distal metastases': 'metastasis'}, inplace=True)\n",
    "\n",
    "# Convert string to actual list\n",
    "y_raw['metastasis'] = y_raw['metastasis'].apply(ast.literal_eval)\n",
    "\n",
    "preprocess(X)\n",
    "\n",
    "# Convert the 'metastasis' column to a list of unique labels\n",
    "y_raw = y_raw['metastasis'].tolist()\n",
    "\n",
    "# convert inner empty lists to list with the string 'None'\n",
    "y_raw = [labels if labels else ['None'] for labels in y_raw]"
   ]
  },
  {
   "cell_type": "code",
   "execution_count": 138,
   "id": "c9e0b1fe",
   "metadata": {},
   "outputs": [],
   "source": [
    "possible_labels = list(set(chain.from_iterable(y_raw)))\n",
    "\n",
    "# Binarize labels\n",
    "mlb = MultiLabelBinarizer(classes=possible_labels)\n",
    "y = mlb.fit_transform(y_raw)\n",
    "\n",
    "# ---- 2. Train/test split ----\n",
    "X_train, X_test, y_train, y_test = train_test_split(X, y, test_size=0.2, random_state=42)\n",
    "\n",
    "# ---- 3. Split the data into training and validation sets ----\n",
    "X_train_val, X_test_val, y_train_val, y_test_val = train_test_split(X_train, y_train, test_size=0.8, random_state=42)"
   ]
  },
  {
   "cell_type": "code",
   "execution_count": null,
   "id": "333518f3",
   "metadata": {},
   "outputs": [
    {
     "name": "stdout",
     "output_type": "stream",
     "text": [
      "Fitting 5 folds for each of 15 candidates, totalling 75 fits\n",
      "RandomizedSearchCV(cv=5,\n",
      "                   estimator=ClassifierChain(base_estimator=AdaBoostClassifier(estimator=DecisionTreeClassifier(),\n",
      "                                                                               random_state=42),\n",
      "                                             random_state=42),\n",
      "                   n_iter=15, n_jobs=-1,\n",
      "                   param_distributions={'base_estimator__estimator__max_depth': [1,\n",
      "                                                                                 2,\n",
      "                                                                                 3,\n",
      "                                                                                 4,\n",
      "                                                                                 5,\n",
      "                                                                                 6],\n",
      "                                        'base_estimator__learning_rate': array([0.01      , 0.11473684, 0.21947368, 0.32421053, 0.42894737,\n",
      "       0.53368421, 0.63842105, 0.74315789, 0.84789474, 0.95263158,\n",
      "       1.05736842, 1.16210526, 1.26684211, 1.37157895, 1.47631579,\n",
      "       1.58105263, 1.68578947, 1.79052632, 1.89526316, 2.        ]),\n",
      "                                        'base_estimator__n_estimators': array([ 25,  50,  75, 100, 125, 150, 175, 200, 225, 250, 275, 300, 325,\n",
      "       350, 375, 400])},\n",
      "                   random_state=42, scoring='f1_macro', verbose=1)\n"
     ]
    }
   ],
   "source": [
    "# Define parameter grid for AdaBoostClassifier\n",
    "param_dist_ada = {\n",
    "    'base_estimator__n_estimators': np.arange(25, 201, 25),\n",
    "    'base_estimator__learning_rate': np.linspace(0.01, 2.0, 20),\n",
    "    'base_estimator__estimator__max_depth': [1, 2, 3, 4, 5, 6]\n",
    "}\n",
    "\n",
    "# Create base estimator\n",
    "base_ada = AdaBoostClassifier(\n",
    "    estimator=DecisionTreeClassifier(),\n",
    "    random_state=42\n",
    ")\n",
    "\n",
    "# Create ClassifierChain\n",
    "classifier_chain = ClassifierChain(base_ada, random_state=42)\n",
    "\n",
    "# Set up random search for AdaBoost\n",
    "random_search_ada = RandomizedSearchCV(\n",
    "    estimator=classifier_chain,\n",
    "    param_distributions=param_dist_ada,\n",
    "    n_iter=20,\n",
    "    cv=5,\n",
    "    scoring='f1_macro',\n",
    "    verbose=1,\n",
    "    n_jobs=-1,\n",
    "    random_state=42\n",
    ")\n",
    "\n",
    "# Fit the model\n",
    "random_search_ada.fit(X_train_val, y_train_val)\n",
    "print(random_search_ada)\n"
   ]
  },
  {
   "cell_type": "code",
   "execution_count": 140,
   "id": "1a6e42a0",
   "metadata": {},
   "outputs": [
    {
     "name": "stdout",
     "output_type": "stream",
     "text": [
      "Best parameters: {'base_estimator__n_estimators': np.int64(100), 'base_estimator__learning_rate': np.float64(1.1621052631578948), 'base_estimator__estimator__max_depth': 5}\n",
      "Best cross-validation score: 0.4974\n"
     ]
    }
   ],
   "source": [
    "print(f\"Best parameters: {random_search_ada.best_params_}\")\n",
    "print(f\"Best cross-validation score: {random_search_ada.best_score_:.4f}\")"
   ]
  },
  {
   "cell_type": "code",
   "execution_count": 159,
   "id": "da66b7da",
   "metadata": {},
   "outputs": [
    {
     "name": "stdout",
     "output_type": "stream",
     "text": [
      "Best parameters for AdaBoost: {'base_estimator__n_estimators': np.int64(100), 'base_estimator__learning_rate': np.float64(1.1621052631578948), 'base_estimator__estimator__max_depth': 5}\n",
      "Best cross-validation score for AdaBoost: 0.4974\n",
      "Final AdaBoost Classification report:\n",
      "                   precision    recall  f1-score   support\n",
      "\n",
      "    HEP - Hepatic       0.98      0.97      0.97       100\n",
      "      BRA - Brain       1.00      1.00      1.00        10\n",
      " PER - Peritoneum       1.00      1.00      1.00         4\n",
      "  PUL - Pulmonary       1.00      0.96      0.98        72\n",
      "     PLE - Pleura       1.00      1.00      1.00         3\n",
      "LYM - Lymph nodes       0.98      0.96      0.97        97\n",
      "      BON - Bones       1.00      0.96      0.98       248\n",
      "MAR - Bone Marrow       0.00      0.00      0.00         0\n",
      "       SKI - Skin       1.00      1.00      1.00        14\n",
      "             None       1.00      1.00      1.00      7530\n",
      "   ADR - Adrenals       0.00      0.00      0.00         0\n",
      "      OTH - Other       1.00      1.00      1.00         3\n",
      "\n",
      "        micro avg       1.00      1.00      1.00      8081\n",
      "        macro avg       0.83      0.82      0.82      8081\n",
      "     weighted avg       1.00      1.00      1.00      8081\n",
      "      samples avg       1.00      1.00      1.00      8081\n",
      "\n"
     ]
    },
    {
     "name": "stderr",
     "output_type": "stream",
     "text": [
      "c:\\Users\\roeed\\AppData\\Local\\Programs\\Python\\Python313\\Lib\\site-packages\\sklearn\\metrics\\_classification.py:1565: UndefinedMetricWarning: Precision is ill-defined and being set to 0.0 in labels with no predicted samples. Use `zero_division` parameter to control this behavior.\n",
      "  _warn_prf(average, modifier, f\"{metric.capitalize()} is\", len(result))\n",
      "c:\\Users\\roeed\\AppData\\Local\\Programs\\Python\\Python313\\Lib\\site-packages\\sklearn\\metrics\\_classification.py:1565: UndefinedMetricWarning: Recall is ill-defined and being set to 0.0 in labels with no true samples. Use `zero_division` parameter to control this behavior.\n",
      "  _warn_prf(average, modifier, f\"{metric.capitalize()} is\", len(result))\n",
      "c:\\Users\\roeed\\AppData\\Local\\Programs\\Python\\Python313\\Lib\\site-packages\\sklearn\\metrics\\_classification.py:1565: UndefinedMetricWarning: F-score is ill-defined and being set to 0.0 in labels with no true nor predicted samples. Use `zero_division` parameter to control this behavior.\n",
      "  _warn_prf(average, modifier, f\"{metric.capitalize()} is\", len(result))\n"
     ]
    }
   ],
   "source": [
    "# Train the final model with best parameters on the full training set\n",
    "best_params_ada = random_search_ada.best_params_\n",
    "print(f\"Best parameters for AdaBoost: {best_params_ada}\")\n",
    "print(f\"Best cross-validation score for AdaBoost: {random_search_ada.best_score_:.4f}\")\n",
    "# Train the final model with best parameters on full training set\n",
    "best_ada = AdaBoostClassifier(\n",
    "    n_estimators=best_params_ada['base_estimator__n_estimators'],\n",
    "    learning_rate=best_params_ada['base_estimator__learning_rate'],\n",
    "    estimator=DecisionTreeClassifier(\n",
    "        max_depth=best_params_ada['base_estimator__estimator__max_depth']\n",
    "    ),\n",
    "    random_state=42\n",
    ")\n",
    "\n",
    "classifier_chain = ClassifierChain(best_ada, random_state=42)\n",
    "\n",
    "# Fit the final model on the full training set\n",
    "classifier_chain.fit(X_train, y_train)\n",
    "\n",
    "# Predict on test/validation split\n",
    "y_pred_ada = classifier_chain.predict(X_test)\n",
    "# Print classification report\n",
    "print(\"Final AdaBoost Classification report:\")\n",
    "print(classification_report(y_test, y_pred_ada, target_names=mlb.classes_))"
   ]
  },
  {
   "cell_type": "code",
   "execution_count": null,
   "id": "7e7df3fd",
   "metadata": {},
   "outputs": [
    {
     "name": "stdout",
     "output_type": "stream",
     "text": [
      "Unique inner lists in y_pred_ada_sites:\n",
      "{('BRA - Brain', 'None'), ('HEP - Hepatic', 'PUL - Pulmonary'), ('MAR - Bone Marrow',), ('BON - Bones', 'LYM - Lymph nodes', 'PUL - Pulmonary'), ('BON - Bones', 'LYM - Lymph nodes'), ('None', 'PER - Peritoneum'), ('SKI - Skin',), ('BON - Bones', 'PER - Peritoneum'), ('BON - Bones', 'HEP - Hepatic'), ('None', 'PLE - Pleura'), ('BON - Bones', 'HEP - Hepatic', 'LYM - Lymph nodes'), ('BON - Bones', 'PLE - Pleura'), ('BON - Bones', 'BRA - Brain'), ('OTH - Other', 'PUL - Pulmonary'), ('LYM - Lymph nodes', 'PUL - Pulmonary'), ('LYM - Lymph nodes',), ('MAR - Bone Marrow', 'None'), ('LYM - Lymph nodes', 'PER - Peritoneum', 'PUL - Pulmonary'), ('BON - Bones', 'HEP - Hepatic', 'MAR - Bone Marrow', 'PUL - Pulmonary'), ('HEP - Hepatic',), ('BON - Bones', 'MAR - Bone Marrow'), ('BON - Bones', 'PUL - Pulmonary'), ('None',), ('HEP - Hepatic', 'LYM - Lymph nodes'), ('BON - Bones',), ('BON - Bones', 'HEP - Hepatic', 'PUL - Pulmonary'), ('OTH - Other', 'SKI - Skin'), ('BON - Bones', 'HEP - Hepatic', 'MAR - Bone Marrow'), ('PUL - Pulmonary',), ('BON - Bones', 'LYM - Lymph nodes', 'PLE - Pleura'), ()}\n"
     ]
    }
   ],
   "source": [
    "# Convert prediction vectors to lists of metastasis sites using mlb.classes_\n",
    "def vectors_to_metastasis_lists(y_pred, mlb):\n",
    "    return [\n",
    "        [mlb.classes_[i] for i, val in enumerate(row) if int(val) == 1]\n",
    "        for row in y_pred\n",
    "    ]\n",
    "\n",
    "# Example usage:\n",
    "y_pred_ada_sites = vectors_to_metastasis_lists(y_pred_ada, mlb)\n",
    "print(\"Unique inner lists in y_pred_ada_sites:\")\n",
    "print(set(tuple(sorted(labels)) for labels in y_pred_ada_sites))\n",
    "\n"
   ]
  },
  {
   "cell_type": "code",
   "execution_count": 165,
   "id": "6ffb436e",
   "metadata": {},
   "outputs": [
    {
     "name": "stderr",
     "output_type": "stream",
     "text": [
      "C:\\Users\\roeed\\AppData\\Local\\Temp\\ipykernel_2396\\2541167863.py:1: DtypeWarning: Columns (9,20,21,23,24) have mixed types. Specify dtype option on import or set low_memory=False.\n",
      "  X_test_feats = pd.read_csv(f'{father_folder}/train_test_splits/test.feats.csv')\n",
      "C:\\\\Users\\\\roeed\\\\OneDrive\\\\Documents\\\\Projects\\\\iml-hack-oncology\\preprocessing\\preprocess_data.py:464: UserWarning: Could not infer format, so each element will be parsed individually, falling back to `dateutil`. To ensure parsing is consistent and as-expected, please specify a format.\n",
      "  row[Columns.SURGERY_DATE1],\n",
      "C:\\\\Users\\\\roeed\\\\OneDrive\\\\Documents\\\\Projects\\\\iml-hack-oncology\\preprocessing\\preprocess_data.py:464: UserWarning: Parsing dates in %d/%m/%Y format when dayfirst=False (the default) was specified. Pass `dayfirst=True` or specify a format to silence this warning.\n",
      "  row[Columns.SURGERY_DATE1],\n",
      "C:\\\\Users\\\\roeed\\\\OneDrive\\\\Documents\\\\Projects\\\\iml-hack-oncology\\preprocessing\\preprocess_data.py:464: UserWarning: Parsing dates in %d/%m/%Y format when dayfirst=False (the default) was specified. Pass `dayfirst=True` or specify a format to silence this warning.\n",
      "  row[Columns.SURGERY_DATE1],\n"
     ]
    }
   ],
   "source": [
    "X_test_feats = pd.read_csv(f'{father_folder}/train_test_splits/test.feats.csv')\n",
    "X_test_feats = preprocess(X_test_feats)"
   ]
  },
  {
   "cell_type": "code",
   "execution_count": null,
   "id": "a756f203",
   "metadata": {},
   "outputs": [],
   "source": [
    "# Predict on the test features\n",
    "y_preds = classifier_chain.predict(X_test_feats)\n",
    "# Convert prediction vectors to lists of metastasis sites using mlb.classes_\n",
    "y_preds_sites = vectors_to_metastasis_lists(y_preds, mlb)\n",
    "print(\"Unique inner lists in y_preds_sites:\")\n",
    "\n"
   ]
  }
 ],
 "metadata": {
  "kernelspec": {
   "display_name": "Python 3",
   "language": "python",
   "name": "python3"
  },
  "language_info": {
   "codemirror_mode": {
    "name": "ipython",
    "version": 3
   },
   "file_extension": ".py",
   "mimetype": "text/x-python",
   "name": "python",
   "nbconvert_exporter": "python",
   "pygments_lexer": "ipython3",
   "version": "3.13.1"
  }
 },
 "nbformat": 4,
 "nbformat_minor": 5
}
