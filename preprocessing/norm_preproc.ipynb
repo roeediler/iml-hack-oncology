{
 "cells": [
  {
   "cell_type": "code",
   "execution_count": 129,
   "id": "bdc7929c",
   "metadata": {},
   "outputs": [
    {
     "name": "stderr",
     "output_type": "stream",
     "text": [
      "C:\\\\Users\\\\roeed\\\\OneDrive\\\\Documents\\\\Projects\\\\iml-hack-oncology\\preprocessing\\preprocess_data.py:464: UserWarning: Parsing dates in %d/%m/%Y format when dayfirst=False (the default) was specified. Pass `dayfirst=True` or specify a format to silence this warning.\n",
      "  data[col] = pd.to_datetime(data[col], errors='coerce')\n",
      "C:\\\\Users\\\\roeed\\\\OneDrive\\\\Documents\\\\Projects\\\\iml-hack-oncology\\preprocessing\\preprocess_data.py:464: UserWarning: Parsing dates in %d/%m/%Y format when dayfirst=False (the default) was specified. Pass `dayfirst=True` or specify a format to silence this warning.\n",
      "  data[col] = pd.to_datetime(data[col], errors='coerce')\n",
      "C:\\\\Users\\\\roeed\\\\OneDrive\\\\Documents\\\\Projects\\\\iml-hack-oncology\\preprocessing\\preprocess_data.py:464: UserWarning: Parsing dates in %d/%m/%Y format when dayfirst=False (the default) was specified. Pass `dayfirst=True` or specify a format to silence this warning.\n",
      "  data[col] = pd.to_datetime(data[col], errors='coerce')\n"
     ]
    }
   ],
   "source": [
    "\n",
    "import numpy as np\n",
    "import pandas as pd\n",
    "import ast\n",
    "import sys\n",
    "\n",
    "from sklearn.ensemble import RandomForestClassifier\n",
    "from sklearn.neighbors import KNeighborsClassifier\n",
    "from sklearn.model_selection import ParameterSampler\n",
    "from sklearn.ensemble import HistGradientBoostingClassifier\n",
    "from sklearn.tree import DecisionTreeClassifier\n",
    "from sklearn.multioutput import ClassifierChain\n",
    "from sklearn.ensemble import AdaBoostClassifier\n",
    "\n",
    "from sklearn.preprocessing import MultiLabelBinarizer\n",
    "from sklearn.multiclass import OneVsRestClassifier\n",
    "from sklearn.preprocessing import StandardScaler\n",
    "from sklearn.pipeline import Pipeline\n",
    "from sklearn.model_selection import train_test_split, RandomizedSearchCV\n",
    "from sklearn.metrics import classification_report, f1_score\n",
    "\n",
    "from itertools import chain\n",
    "\n",
    "sys.path.append(r\"C:\\\\Users\\\\roeed\\\\OneDrive\\\\Documents\\\\Projects\\\\iml-hack-oncology\")\n",
    "\n",
    "from preprocessing.preprocess_data import preprocess\n",
    "import preprocessing.data_completion as data_completion\n",
    "\n",
    "import os\n",
    "\n",
    "np.random.seed(42)\n",
    "top_k = 3\n",
    "\n",
    "# ---- 1. Import the data ----\n",
    "father_folder = os.path.dirname(os.getcwd())\n",
    "X = pd.read_csv(f'{father_folder}/train_test_splits/train_split.feats.csv')\n",
    "y_raw = pd.read_csv(f'{father_folder}/train_test_splits/train_split.labels.0.csv')\n",
    "\n",
    "# change the column name to 'metastasis' for consistency\n",
    "y_raw.rename(columns={'אבחנה-Location of distal metastases': 'metastasis'}, inplace=True)\n",
    "\n",
    "# Convert string to actual list\n",
    "y_raw['metastasis'] = y_raw['metastasis'].apply(ast.literal_eval)\n",
    "\n",
    "preprocess(X)\n",
    "\n",
    "# Convert the 'metastasis' column to a list of unique labels\n",
    "y_raw = y_raw['metastasis'].tolist()\n",
    "\n",
    "# convert inner empty lists to list with the string 'None'\n",
    "y_raw = [labels if labels else ['None'] for labels in y_raw]"
   ]
  },
  {
   "cell_type": "code",
   "execution_count": 130,
   "id": "c9e0b1fe",
   "metadata": {},
   "outputs": [],
   "source": [
    "possible_labels = list(set(chain.from_iterable(y_raw)))\n",
    "\n",
    "# Binarize labels\n",
    "mlb = MultiLabelBinarizer(classes=possible_labels)\n",
    "y = mlb.fit_transform(y_raw)\n",
    "\n",
    "# ---- 2. Train/test split ----\n",
    "X_train, X_test, y_train, y_test = train_test_split(X, y, test_size=0.2, random_state=42)\n",
    "\n",
    "# ---- 3. Split the data into training and validation sets ----\n",
    "X_train_val, X_test_val, y_train_val, y_test_val = train_test_split(X_train, y_train, test_size=0.8, random_state=42)"
   ]
  },
  {
   "cell_type": "code",
   "execution_count": 131,
   "id": "333518f3",
   "metadata": {},
   "outputs": [],
   "source": [
    "# Define hyperparameter space for AdaBoost\n",
    "param_dist_ada = {\n",
    "    'n_estimators': np.arange(25, 401, 25),\n",
    "    'learning_rate': np.linspace(0.01, 2.0, 20),\n",
    "    'estimator': [\n",
    "        DecisionTreeClassifier(max_depth=d) for d in range(1, 6)\n",
    "    ], \n",
    "}\n",
    "\n",
    "# Set up random search for AdaBoost\n",
    "random_search_ada = ClassifierChain(RandomizedSearchCV(\n",
    "    estimator=AdaBoostClassifier(random_state=42),\n",
    "    param_distributions=param_dist_ada,\n",
    "    n_iter=15,\n",
    "    cv=5,\n",
    "    scoring='f1_macro',\n",
    "    verbose=1,\n",
    "    n_jobs=-1,\n",
    "    random_state=42\n",
    "), order='random', random_state=42)\n",
    "\n"
   ]
  },
  {
   "cell_type": "code",
   "execution_count": null,
   "id": "1a6e42a0",
   "metadata": {},
   "outputs": [],
   "source": [
    "# Fit the best model on the entire training set\n",
    "random_search_ada.fit(X_train, y_train)\n",
    "print(random_search_ada)"
   ]
  },
  {
   "cell_type": "code",
   "execution_count": null,
   "id": "da66b7da",
   "metadata": {},
   "outputs": [],
   "source": [
    "# Predict on the test set\n",
    "y_pred_ada = random_search_ada.predict(X_test)\n",
    "# Print classification report\n",
    "print(\"Final AdaBoost Classification report:\")\n",
    "print(classification_report(y_test, y_pred_ada, target_names=mlb.classes_))"
   ]
  }
 ],
 "metadata": {
  "kernelspec": {
   "display_name": "Python 3",
   "language": "python",
   "name": "python3"
  },
  "language_info": {
   "codemirror_mode": {
    "name": "ipython",
    "version": 3
   },
   "file_extension": ".py",
   "mimetype": "text/x-python",
   "name": "python",
   "nbconvert_exporter": "python",
   "pygments_lexer": "ipython3",
   "version": "3.13.1"
  }
 },
 "nbformat": 4,
 "nbformat_minor": 5
}
